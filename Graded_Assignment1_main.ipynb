{
  "cells": [
    {
      "cell_type": "markdown",
      "metadata": {
        "id": "view-in-github",
        "colab_type": "text"
      },
      "source": [
        "<a href=\"https://colab.research.google.com/github/lamyse1/Biomed-Info./blob/main/Graded_Assignment1_main.ipynb\" target=\"_parent\"><img src=\"https://colab.research.google.com/assets/colab-badge.svg\" alt=\"Open In Colab\"/></a>"
      ]
    },
    {
      "cell_type": "markdown",
      "id": "lesbian-browse",
      "metadata": {
        "id": "lesbian-browse"
      },
      "source": [
        "# Precision-cancer\n",
        "\n",
        "Packages:\n",
        "Numpy version: 1.20.0;\n",
        "Pandas version: 1.2.1;\n",
        "scikit-learn version: 0.24.1;\n",
        "lifelines version: 0.26.0"
      ]
    },
    {
      "cell_type": "code",
      "source": [
        "!pip install lifelines"
      ],
      "metadata": {
        "colab": {
          "base_uri": "https://localhost:8080/"
        },
        "collapsed": true,
        "id": "3gh92CPEa3QR",
        "outputId": "19b9e0b7-d0df-4ac2-b4a4-1c35e67d171b"
      },
      "id": "3gh92CPEa3QR",
      "execution_count": 1,
      "outputs": [
        {
          "output_type": "stream",
          "name": "stdout",
          "text": [
            "Collecting lifelines\n",
            "  Downloading lifelines-0.30.0-py3-none-any.whl.metadata (3.2 kB)\n",
            "Requirement already satisfied: numpy>=1.14.0 in /usr/local/lib/python3.11/dist-packages (from lifelines) (2.0.2)\n",
            "Requirement already satisfied: scipy>=1.7.0 in /usr/local/lib/python3.11/dist-packages (from lifelines) (1.15.3)\n",
            "Requirement already satisfied: pandas>=2.1 in /usr/local/lib/python3.11/dist-packages (from lifelines) (2.2.2)\n",
            "Requirement already satisfied: matplotlib>=3.0 in /usr/local/lib/python3.11/dist-packages (from lifelines) (3.10.0)\n",
            "Requirement already satisfied: autograd>=1.5 in /usr/local/lib/python3.11/dist-packages (from lifelines) (1.8.0)\n",
            "Collecting autograd-gamma>=0.3 (from lifelines)\n",
            "  Downloading autograd-gamma-0.5.0.tar.gz (4.0 kB)\n",
            "  Preparing metadata (setup.py) ... \u001b[?25l\u001b[?25hdone\n",
            "Collecting formulaic>=0.2.2 (from lifelines)\n",
            "  Downloading formulaic-1.2.0-py3-none-any.whl.metadata (7.0 kB)\n",
            "Collecting interface-meta>=1.2.0 (from formulaic>=0.2.2->lifelines)\n",
            "  Downloading interface_meta-1.3.0-py3-none-any.whl.metadata (6.7 kB)\n",
            "Requirement already satisfied: narwhals>=1.17 in /usr/local/lib/python3.11/dist-packages (from formulaic>=0.2.2->lifelines) (1.47.1)\n",
            "Requirement already satisfied: typing-extensions>=4.2.0 in /usr/local/lib/python3.11/dist-packages (from formulaic>=0.2.2->lifelines) (4.14.1)\n",
            "Requirement already satisfied: wrapt>=1.0 in /usr/local/lib/python3.11/dist-packages (from formulaic>=0.2.2->lifelines) (1.17.2)\n",
            "Requirement already satisfied: contourpy>=1.0.1 in /usr/local/lib/python3.11/dist-packages (from matplotlib>=3.0->lifelines) (1.3.2)\n",
            "Requirement already satisfied: cycler>=0.10 in /usr/local/lib/python3.11/dist-packages (from matplotlib>=3.0->lifelines) (0.12.1)\n",
            "Requirement already satisfied: fonttools>=4.22.0 in /usr/local/lib/python3.11/dist-packages (from matplotlib>=3.0->lifelines) (4.59.0)\n",
            "Requirement already satisfied: kiwisolver>=1.3.1 in /usr/local/lib/python3.11/dist-packages (from matplotlib>=3.0->lifelines) (1.4.8)\n",
            "Requirement already satisfied: packaging>=20.0 in /usr/local/lib/python3.11/dist-packages (from matplotlib>=3.0->lifelines) (25.0)\n",
            "Requirement already satisfied: pillow>=8 in /usr/local/lib/python3.11/dist-packages (from matplotlib>=3.0->lifelines) (11.2.1)\n",
            "Requirement already satisfied: pyparsing>=2.3.1 in /usr/local/lib/python3.11/dist-packages (from matplotlib>=3.0->lifelines) (3.2.3)\n",
            "Requirement already satisfied: python-dateutil>=2.7 in /usr/local/lib/python3.11/dist-packages (from matplotlib>=3.0->lifelines) (2.9.0.post0)\n",
            "Requirement already satisfied: pytz>=2020.1 in /usr/local/lib/python3.11/dist-packages (from pandas>=2.1->lifelines) (2025.2)\n",
            "Requirement already satisfied: tzdata>=2022.7 in /usr/local/lib/python3.11/dist-packages (from pandas>=2.1->lifelines) (2025.2)\n",
            "Requirement already satisfied: six>=1.5 in /usr/local/lib/python3.11/dist-packages (from python-dateutil>=2.7->matplotlib>=3.0->lifelines) (1.17.0)\n",
            "Downloading lifelines-0.30.0-py3-none-any.whl (349 kB)\n",
            "\u001b[2K   \u001b[90m━━━━━━━━━━━━━━━━━━━━━━━━━━━━━━━━━━━━━━━━\u001b[0m \u001b[32m349.3/349.3 kB\u001b[0m \u001b[31m17.9 MB/s\u001b[0m eta \u001b[36m0:00:00\u001b[0m\n",
            "\u001b[?25hDownloading formulaic-1.2.0-py3-none-any.whl (117 kB)\n",
            "\u001b[2K   \u001b[90m━━━━━━━━━━━━━━━━━━━━━━━━━━━━━━━━━━━━━━━━\u001b[0m \u001b[32m117.2/117.2 kB\u001b[0m \u001b[31m11.2 MB/s\u001b[0m eta \u001b[36m0:00:00\u001b[0m\n",
            "\u001b[?25hDownloading interface_meta-1.3.0-py3-none-any.whl (14 kB)\n",
            "Building wheels for collected packages: autograd-gamma\n",
            "  Building wheel for autograd-gamma (setup.py) ... \u001b[?25l\u001b[?25hdone\n",
            "  Created wheel for autograd-gamma: filename=autograd_gamma-0.5.0-py3-none-any.whl size=4030 sha256=eae033d7b552e7f3b84511fc016529740c669a68d1cec12b2b4c1058bdde11e1\n",
            "  Stored in directory: /root/.cache/pip/wheels/8b/67/f4/2caaae2146198dcb824f31a303833b07b14a5ec863fb3acd7b\n",
            "Successfully built autograd-gamma\n",
            "Installing collected packages: interface-meta, autograd-gamma, formulaic, lifelines\n",
            "Successfully installed autograd-gamma-0.5.0 formulaic-1.2.0 interface-meta-1.3.0 lifelines-0.30.0\n"
          ]
        }
      ]
    },
    {
      "cell_type": "code",
      "execution_count": 2,
      "id": "strategic-output",
      "metadata": {
        "id": "strategic-output"
      },
      "outputs": [],
      "source": [
        "import pandas as pd\n",
        "import numpy as np\n",
        "from lifelines import CoxPHFitter, KaplanMeierFitter\n",
        "from sklearn.linear_model import LogisticRegression\n",
        "import warnings\n",
        "warnings.simplefilter(action='ignore')"
      ]
    },
    {
      "cell_type": "markdown",
      "source": [
        "# Step1:  loaded all core libraries: pandas, NumPy, lifelines, and scikit- learn, plus a warning filter so the notebook runs quietly."
      ],
      "metadata": {
        "id": "NpWFnWl-lj4d"
      },
      "id": "NpWFnWl-lj4d"
    },
    {
      "cell_type": "markdown",
      "id": "neural-mention",
      "metadata": {
        "id": "neural-mention"
      },
      "source": [
        "## Load Synthetic Data\n",
        "\n",
        "For this notebook, we use synthetic data in \"synthetic_data.csv\" as a demonstration of our pipeline. It includes the following features -\n",
        "- Confounders. We note that here is one toy example. In real applications, more confounders and more categories should be included.\n",
        "    - <font color=darkblue>*Gender*</font>: whether the patient is female (=1) or not (=0).\n",
        "    - <font color=darkblue>*Age*</font>: whether age >= 40 (=1) or not (=0).\n",
        "    - <font color=darkblue>*ECOG*</font>: whether ECOG >=3 (=1) or not (=0).\n",
        "- <font color=darkblue>*Mutation status*</font> for Gene A and Gene B.\n",
        "    - Whether the gene is mutated (=1) or not (=0).\n",
        "- <font color=darkblue>*Treatment status*</font> for Treatment 1 and Treatment 2.\n",
        "    - Whether the patient received the treatment (=1) or not (=0).\n",
        "- Survival information\n",
        "    - <font color=darkblue>*duration*</font>: time from start of treatment to event (days).\n",
        "    - <font color=darkblue>*event*</font>: death happened (=1) or right censored (=0)\n",
        "    - <font color=darkblue>*fmi_test*</font>: time from start of treatment to FMI test (days)."
      ]
    },
    {
      "cell_type": "code",
      "execution_count": 3,
      "id": "refined-poultry",
      "metadata": {
        "colab": {
          "base_uri": "https://localhost:8080/",
          "height": 224
        },
        "id": "refined-poultry",
        "outputId": "ba8ef8ba-4849-4a84-fd5f-135938cceeff"
      },
      "outputs": [
        {
          "output_type": "stream",
          "name": "stdout",
          "text": [
            "Number of patients: 3000\n"
          ]
        },
        {
          "output_type": "execute_result",
          "data": {
            "text/plain": [
              "   Female  Age >= 40  ECOG >= 3  Gene A  Gene B  Treatment 1  Treatment 2  \\\n",
              "0       1          1          0       0       0            0            1   \n",
              "1       1          1          1       1       0            1            0   \n",
              "2       1          1          1       1       1            0            1   \n",
              "3       0          0          0       0       0            0            1   \n",
              "4       0          0          0       0       0            0            1   \n",
              "\n",
              "   duration  event  fmi_test  \n",
              "0       439      1        31  \n",
              "1       258      0         9  \n",
              "2       132      1        31  \n",
              "3        62      1        28  \n",
              "4        46      1        32  "
            ],
            "text/html": [
              "\n",
              "  <div id=\"df-90e52b41-ecf5-4570-9db0-b386bb4131e6\" class=\"colab-df-container\">\n",
              "    <div>\n",
              "<style scoped>\n",
              "    .dataframe tbody tr th:only-of-type {\n",
              "        vertical-align: middle;\n",
              "    }\n",
              "\n",
              "    .dataframe tbody tr th {\n",
              "        vertical-align: top;\n",
              "    }\n",
              "\n",
              "    .dataframe thead th {\n",
              "        text-align: right;\n",
              "    }\n",
              "</style>\n",
              "<table border=\"1\" class=\"dataframe\">\n",
              "  <thead>\n",
              "    <tr style=\"text-align: right;\">\n",
              "      <th></th>\n",
              "      <th>Female</th>\n",
              "      <th>Age &gt;= 40</th>\n",
              "      <th>ECOG &gt;= 3</th>\n",
              "      <th>Gene A</th>\n",
              "      <th>Gene B</th>\n",
              "      <th>Treatment 1</th>\n",
              "      <th>Treatment 2</th>\n",
              "      <th>duration</th>\n",
              "      <th>event</th>\n",
              "      <th>fmi_test</th>\n",
              "    </tr>\n",
              "  </thead>\n",
              "  <tbody>\n",
              "    <tr>\n",
              "      <th>0</th>\n",
              "      <td>1</td>\n",
              "      <td>1</td>\n",
              "      <td>0</td>\n",
              "      <td>0</td>\n",
              "      <td>0</td>\n",
              "      <td>0</td>\n",
              "      <td>1</td>\n",
              "      <td>439</td>\n",
              "      <td>1</td>\n",
              "      <td>31</td>\n",
              "    </tr>\n",
              "    <tr>\n",
              "      <th>1</th>\n",
              "      <td>1</td>\n",
              "      <td>1</td>\n",
              "      <td>1</td>\n",
              "      <td>1</td>\n",
              "      <td>0</td>\n",
              "      <td>1</td>\n",
              "      <td>0</td>\n",
              "      <td>258</td>\n",
              "      <td>0</td>\n",
              "      <td>9</td>\n",
              "    </tr>\n",
              "    <tr>\n",
              "      <th>2</th>\n",
              "      <td>1</td>\n",
              "      <td>1</td>\n",
              "      <td>1</td>\n",
              "      <td>1</td>\n",
              "      <td>1</td>\n",
              "      <td>0</td>\n",
              "      <td>1</td>\n",
              "      <td>132</td>\n",
              "      <td>1</td>\n",
              "      <td>31</td>\n",
              "    </tr>\n",
              "    <tr>\n",
              "      <th>3</th>\n",
              "      <td>0</td>\n",
              "      <td>0</td>\n",
              "      <td>0</td>\n",
              "      <td>0</td>\n",
              "      <td>0</td>\n",
              "      <td>0</td>\n",
              "      <td>1</td>\n",
              "      <td>62</td>\n",
              "      <td>1</td>\n",
              "      <td>28</td>\n",
              "    </tr>\n",
              "    <tr>\n",
              "      <th>4</th>\n",
              "      <td>0</td>\n",
              "      <td>0</td>\n",
              "      <td>0</td>\n",
              "      <td>0</td>\n",
              "      <td>0</td>\n",
              "      <td>0</td>\n",
              "      <td>1</td>\n",
              "      <td>46</td>\n",
              "      <td>1</td>\n",
              "      <td>32</td>\n",
              "    </tr>\n",
              "  </tbody>\n",
              "</table>\n",
              "</div>\n",
              "    <div class=\"colab-df-buttons\">\n",
              "\n",
              "  <div class=\"colab-df-container\">\n",
              "    <button class=\"colab-df-convert\" onclick=\"convertToInteractive('df-90e52b41-ecf5-4570-9db0-b386bb4131e6')\"\n",
              "            title=\"Convert this dataframe to an interactive table.\"\n",
              "            style=\"display:none;\">\n",
              "\n",
              "  <svg xmlns=\"http://www.w3.org/2000/svg\" height=\"24px\" viewBox=\"0 -960 960 960\">\n",
              "    <path d=\"M120-120v-720h720v720H120Zm60-500h600v-160H180v160Zm220 220h160v-160H400v160Zm0 220h160v-160H400v160ZM180-400h160v-160H180v160Zm440 0h160v-160H620v160ZM180-180h160v-160H180v160Zm440 0h160v-160H620v160Z\"/>\n",
              "  </svg>\n",
              "    </button>\n",
              "\n",
              "  <style>\n",
              "    .colab-df-container {\n",
              "      display:flex;\n",
              "      gap: 12px;\n",
              "    }\n",
              "\n",
              "    .colab-df-convert {\n",
              "      background-color: #E8F0FE;\n",
              "      border: none;\n",
              "      border-radius: 50%;\n",
              "      cursor: pointer;\n",
              "      display: none;\n",
              "      fill: #1967D2;\n",
              "      height: 32px;\n",
              "      padding: 0 0 0 0;\n",
              "      width: 32px;\n",
              "    }\n",
              "\n",
              "    .colab-df-convert:hover {\n",
              "      background-color: #E2EBFA;\n",
              "      box-shadow: 0px 1px 2px rgba(60, 64, 67, 0.3), 0px 1px 3px 1px rgba(60, 64, 67, 0.15);\n",
              "      fill: #174EA6;\n",
              "    }\n",
              "\n",
              "    .colab-df-buttons div {\n",
              "      margin-bottom: 4px;\n",
              "    }\n",
              "\n",
              "    [theme=dark] .colab-df-convert {\n",
              "      background-color: #3B4455;\n",
              "      fill: #D2E3FC;\n",
              "    }\n",
              "\n",
              "    [theme=dark] .colab-df-convert:hover {\n",
              "      background-color: #434B5C;\n",
              "      box-shadow: 0px 1px 3px 1px rgba(0, 0, 0, 0.15);\n",
              "      filter: drop-shadow(0px 1px 2px rgba(0, 0, 0, 0.3));\n",
              "      fill: #FFFFFF;\n",
              "    }\n",
              "  </style>\n",
              "\n",
              "    <script>\n",
              "      const buttonEl =\n",
              "        document.querySelector('#df-90e52b41-ecf5-4570-9db0-b386bb4131e6 button.colab-df-convert');\n",
              "      buttonEl.style.display =\n",
              "        google.colab.kernel.accessAllowed ? 'block' : 'none';\n",
              "\n",
              "      async function convertToInteractive(key) {\n",
              "        const element = document.querySelector('#df-90e52b41-ecf5-4570-9db0-b386bb4131e6');\n",
              "        const dataTable =\n",
              "          await google.colab.kernel.invokeFunction('convertToInteractive',\n",
              "                                                    [key], {});\n",
              "        if (!dataTable) return;\n",
              "\n",
              "        const docLinkHtml = 'Like what you see? Visit the ' +\n",
              "          '<a target=\"_blank\" href=https://colab.research.google.com/notebooks/data_table.ipynb>data table notebook</a>'\n",
              "          + ' to learn more about interactive tables.';\n",
              "        element.innerHTML = '';\n",
              "        dataTable['output_type'] = 'display_data';\n",
              "        await google.colab.output.renderOutput(dataTable, element);\n",
              "        const docLink = document.createElement('div');\n",
              "        docLink.innerHTML = docLinkHtml;\n",
              "        element.appendChild(docLink);\n",
              "      }\n",
              "    </script>\n",
              "  </div>\n",
              "\n",
              "\n",
              "    <div id=\"df-2c8f5e09-a992-4520-a40b-5d28e510a394\">\n",
              "      <button class=\"colab-df-quickchart\" onclick=\"quickchart('df-2c8f5e09-a992-4520-a40b-5d28e510a394')\"\n",
              "                title=\"Suggest charts\"\n",
              "                style=\"display:none;\">\n",
              "\n",
              "<svg xmlns=\"http://www.w3.org/2000/svg\" height=\"24px\"viewBox=\"0 0 24 24\"\n",
              "     width=\"24px\">\n",
              "    <g>\n",
              "        <path d=\"M19 3H5c-1.1 0-2 .9-2 2v14c0 1.1.9 2 2 2h14c1.1 0 2-.9 2-2V5c0-1.1-.9-2-2-2zM9 17H7v-7h2v7zm4 0h-2V7h2v10zm4 0h-2v-4h2v4z\"/>\n",
              "    </g>\n",
              "</svg>\n",
              "      </button>\n",
              "\n",
              "<style>\n",
              "  .colab-df-quickchart {\n",
              "      --bg-color: #E8F0FE;\n",
              "      --fill-color: #1967D2;\n",
              "      --hover-bg-color: #E2EBFA;\n",
              "      --hover-fill-color: #174EA6;\n",
              "      --disabled-fill-color: #AAA;\n",
              "      --disabled-bg-color: #DDD;\n",
              "  }\n",
              "\n",
              "  [theme=dark] .colab-df-quickchart {\n",
              "      --bg-color: #3B4455;\n",
              "      --fill-color: #D2E3FC;\n",
              "      --hover-bg-color: #434B5C;\n",
              "      --hover-fill-color: #FFFFFF;\n",
              "      --disabled-bg-color: #3B4455;\n",
              "      --disabled-fill-color: #666;\n",
              "  }\n",
              "\n",
              "  .colab-df-quickchart {\n",
              "    background-color: var(--bg-color);\n",
              "    border: none;\n",
              "    border-radius: 50%;\n",
              "    cursor: pointer;\n",
              "    display: none;\n",
              "    fill: var(--fill-color);\n",
              "    height: 32px;\n",
              "    padding: 0;\n",
              "    width: 32px;\n",
              "  }\n",
              "\n",
              "  .colab-df-quickchart:hover {\n",
              "    background-color: var(--hover-bg-color);\n",
              "    box-shadow: 0 1px 2px rgba(60, 64, 67, 0.3), 0 1px 3px 1px rgba(60, 64, 67, 0.15);\n",
              "    fill: var(--button-hover-fill-color);\n",
              "  }\n",
              "\n",
              "  .colab-df-quickchart-complete:disabled,\n",
              "  .colab-df-quickchart-complete:disabled:hover {\n",
              "    background-color: var(--disabled-bg-color);\n",
              "    fill: var(--disabled-fill-color);\n",
              "    box-shadow: none;\n",
              "  }\n",
              "\n",
              "  .colab-df-spinner {\n",
              "    border: 2px solid var(--fill-color);\n",
              "    border-color: transparent;\n",
              "    border-bottom-color: var(--fill-color);\n",
              "    animation:\n",
              "      spin 1s steps(1) infinite;\n",
              "  }\n",
              "\n",
              "  @keyframes spin {\n",
              "    0% {\n",
              "      border-color: transparent;\n",
              "      border-bottom-color: var(--fill-color);\n",
              "      border-left-color: var(--fill-color);\n",
              "    }\n",
              "    20% {\n",
              "      border-color: transparent;\n",
              "      border-left-color: var(--fill-color);\n",
              "      border-top-color: var(--fill-color);\n",
              "    }\n",
              "    30% {\n",
              "      border-color: transparent;\n",
              "      border-left-color: var(--fill-color);\n",
              "      border-top-color: var(--fill-color);\n",
              "      border-right-color: var(--fill-color);\n",
              "    }\n",
              "    40% {\n",
              "      border-color: transparent;\n",
              "      border-right-color: var(--fill-color);\n",
              "      border-top-color: var(--fill-color);\n",
              "    }\n",
              "    60% {\n",
              "      border-color: transparent;\n",
              "      border-right-color: var(--fill-color);\n",
              "    }\n",
              "    80% {\n",
              "      border-color: transparent;\n",
              "      border-right-color: var(--fill-color);\n",
              "      border-bottom-color: var(--fill-color);\n",
              "    }\n",
              "    90% {\n",
              "      border-color: transparent;\n",
              "      border-bottom-color: var(--fill-color);\n",
              "    }\n",
              "  }\n",
              "</style>\n",
              "\n",
              "      <script>\n",
              "        async function quickchart(key) {\n",
              "          const quickchartButtonEl =\n",
              "            document.querySelector('#' + key + ' button');\n",
              "          quickchartButtonEl.disabled = true;  // To prevent multiple clicks.\n",
              "          quickchartButtonEl.classList.add('colab-df-spinner');\n",
              "          try {\n",
              "            const charts = await google.colab.kernel.invokeFunction(\n",
              "                'suggestCharts', [key], {});\n",
              "          } catch (error) {\n",
              "            console.error('Error during call to suggestCharts:', error);\n",
              "          }\n",
              "          quickchartButtonEl.classList.remove('colab-df-spinner');\n",
              "          quickchartButtonEl.classList.add('colab-df-quickchart-complete');\n",
              "        }\n",
              "        (() => {\n",
              "          let quickchartButtonEl =\n",
              "            document.querySelector('#df-2c8f5e09-a992-4520-a40b-5d28e510a394 button');\n",
              "          quickchartButtonEl.style.display =\n",
              "            google.colab.kernel.accessAllowed ? 'block' : 'none';\n",
              "        })();\n",
              "      </script>\n",
              "    </div>\n",
              "\n",
              "    </div>\n",
              "  </div>\n"
            ],
            "application/vnd.google.colaboratory.intrinsic+json": {
              "type": "dataframe",
              "variable_name": "data_cox",
              "summary": "{\n  \"name\": \"data_cox\",\n  \"rows\": 3000,\n  \"fields\": [\n    {\n      \"column\": \"Female\",\n      \"properties\": {\n        \"dtype\": \"number\",\n        \"std\": 0,\n        \"min\": 0,\n        \"max\": 1,\n        \"num_unique_values\": 2,\n        \"samples\": [\n          0,\n          1\n        ],\n        \"semantic_type\": \"\",\n        \"description\": \"\"\n      }\n    },\n    {\n      \"column\": \"Age >= 40\",\n      \"properties\": {\n        \"dtype\": \"number\",\n        \"std\": 0,\n        \"min\": 0,\n        \"max\": 1,\n        \"num_unique_values\": 2,\n        \"samples\": [\n          0,\n          1\n        ],\n        \"semantic_type\": \"\",\n        \"description\": \"\"\n      }\n    },\n    {\n      \"column\": \"ECOG >= 3\",\n      \"properties\": {\n        \"dtype\": \"number\",\n        \"std\": 0,\n        \"min\": 0,\n        \"max\": 1,\n        \"num_unique_values\": 2,\n        \"samples\": [\n          1,\n          0\n        ],\n        \"semantic_type\": \"\",\n        \"description\": \"\"\n      }\n    },\n    {\n      \"column\": \"Gene A\",\n      \"properties\": {\n        \"dtype\": \"number\",\n        \"std\": 0,\n        \"min\": 0,\n        \"max\": 1,\n        \"num_unique_values\": 2,\n        \"samples\": [\n          1,\n          0\n        ],\n        \"semantic_type\": \"\",\n        \"description\": \"\"\n      }\n    },\n    {\n      \"column\": \"Gene B\",\n      \"properties\": {\n        \"dtype\": \"number\",\n        \"std\": 0,\n        \"min\": 0,\n        \"max\": 1,\n        \"num_unique_values\": 2,\n        \"samples\": [\n          1,\n          0\n        ],\n        \"semantic_type\": \"\",\n        \"description\": \"\"\n      }\n    },\n    {\n      \"column\": \"Treatment 1\",\n      \"properties\": {\n        \"dtype\": \"number\",\n        \"std\": 0,\n        \"min\": 0,\n        \"max\": 1,\n        \"num_unique_values\": 2,\n        \"samples\": [\n          1,\n          0\n        ],\n        \"semantic_type\": \"\",\n        \"description\": \"\"\n      }\n    },\n    {\n      \"column\": \"Treatment 2\",\n      \"properties\": {\n        \"dtype\": \"number\",\n        \"std\": 0,\n        \"min\": 0,\n        \"max\": 1,\n        \"num_unique_values\": 2,\n        \"samples\": [\n          0,\n          1\n        ],\n        \"semantic_type\": \"\",\n        \"description\": \"\"\n      }\n    },\n    {\n      \"column\": \"duration\",\n      \"properties\": {\n        \"dtype\": \"number\",\n        \"std\": 125,\n        \"min\": 10,\n        \"max\": 594,\n        \"num_unique_values\": 483,\n        \"samples\": [\n          308,\n          336\n        ],\n        \"semantic_type\": \"\",\n        \"description\": \"\"\n      }\n    },\n    {\n      \"column\": \"event\",\n      \"properties\": {\n        \"dtype\": \"number\",\n        \"std\": 0,\n        \"min\": 0,\n        \"max\": 1,\n        \"num_unique_values\": 2,\n        \"samples\": [\n          0,\n          1\n        ],\n        \"semantic_type\": \"\",\n        \"description\": \"\"\n      }\n    },\n    {\n      \"column\": \"fmi_test\",\n      \"properties\": {\n        \"dtype\": \"number\",\n        \"std\": 10,\n        \"min\": 0,\n        \"max\": 39,\n        \"num_unique_values\": 40,\n        \"samples\": [\n          26,\n          16\n        ],\n        \"semantic_type\": \"\",\n        \"description\": \"\"\n      }\n    }\n  ]\n}"
            }
          },
          "metadata": {},
          "execution_count": 3
        }
      ],
      "source": [
        "data_cox = pd.read_csv('synthetic_data.csv')\n",
        "print('Number of patients: %d' % data_cox.shape[0])\n",
        "cols_basic = ['duration', 'event', 'fmi_test'] # Basic infomation for survival analysis\n",
        "confounders = ['Female', 'Age >= 40', 'ECOG >= 3'] # Confounders\n",
        "data_cox.head()"
      ]
    },
    {
      "cell_type": "markdown",
      "source": [
        "# Step:2 we loaded the synthetic dataset from “synthetic_data.csv,” confirmed there were 3000 patients, defined the basic survival columns (duration,event fmi_test) and the confounders (Female Age>=40 ECOG>=3), and displayed the first few rows."
      ],
      "metadata": {
        "id": "l607-0B8zIR_"
      },
      "id": "l607-0B8zIR_"
    },
    {
      "cell_type": "markdown",
      "id": "super-designation",
      "metadata": {
        "id": "super-designation"
      },
      "source": [
        "## Analysis"
      ]
    },
    {
      "cell_type": "code",
      "execution_count": 4,
      "id": "centered-vocabulary",
      "metadata": {
        "id": "centered-vocabulary"
      },
      "outputs": [],
      "source": [
        "def process_HR(cph_summary, name_feature):\n",
        "    '''\n",
        "    Process result of CoxPH model to HR with 95% confidence intervals.\n",
        "    '''\n",
        "    result = cph_summary.loc[name_feature, ['exp(coef)', 'exp(coef) lower 95%', 'exp(coef) upper 95%']].values\n",
        "    HR = '%.2f (%.2f, %.2f)' % tuple(result)\n",
        "    return HR\n",
        "\n",
        "def Cox_IPTW(data_fit, name_feature):\n",
        "    '''\n",
        "    Uni-covariate CoxPH model with IPTW and left-truncation.\n",
        "    name_feature is the feature we are interested in (e.g., gene name or treatment name).\n",
        "    Return the HR for name_feature.\n",
        "    '''\n",
        "    # Generate data used in Cox Regression with IPTW Weights\n",
        "    data_confounders = data_fit.iloc[:, 3:].copy().drop(columns=[name_feature])\n",
        "    df = pd.concat([data_fit.iloc[:, :3], data_fit[[name_feature]]], axis=1)\n",
        "    X = data_confounders.values\n",
        "    y = data_fit[name_feature].values\n",
        "    model = LogisticRegression(solver='lbfgs', n_jobs=-1, class_weight='balanced')\n",
        "    model.fit(X, y)\n",
        "    p_treated = float(np.sum(y==1))/y.shape[0]\n",
        "    propensity_scores = model.predict_proba(X)[:, 1]\n",
        "    df['weights'] = 0\n",
        "    IP_treated = 1 / propensity_scores\n",
        "    IP_untreated = 1 / (1 - propensity_scores)\n",
        "    df.loc[df[name_feature]==1, 'weights'] = IP_treated[df[name_feature]==1]\n",
        "    df.loc[df[name_feature]==0, 'weights'] = IP_untreated[df[name_feature]==0]\n",
        "    # Cox Regression\n",
        "    cph = CoxPHFitter()\n",
        "    cph.fit(df, 'duration', 'event', weights_col='weights', entry_col='fmi_test', robust=True)\n",
        "    HR = process_HR(cph.summary, name_feature)\n",
        "    return HR"
      ]
    },
    {
      "cell_type": "markdown",
      "source": [
        "# Step3 : defined two helper functions. The first, process_HR, extracted a feature’s hazard ratio plus its 95 % confidence bounds from a fitted CoxPH model summary and formatted them as a string. The second, Cox_IPTW, implemented a one‑variable Cox model with inverse‑probability‑of‑treatment weighting and left‑truncation: it pulled out confounders, fit a logistic regression to estimate propensity scores, computed weights, ran the weighted CoxPH fit on duration/event with entry times, and then used process_HR to return the feature’s hazard ratio.\n"
      ],
      "metadata": {
        "id": "SElQeLUQz1FH"
      },
      "id": "SElQeLUQz1FH"
    },
    {
      "cell_type": "markdown",
      "id": "tough-drunk",
      "metadata": {
        "id": "tough-drunk"
      },
      "source": [
        "### 1. Association between mutations and patient survival.\n",
        "\n",
        "Here we study the prognostic effects of mutations in Gene A on overall survival (OS) and report the OS HR."
      ]
    },
    {
      "cell_type": "code",
      "execution_count": 5,
      "id": "bored-soldier",
      "metadata": {
        "colab": {
          "base_uri": "https://localhost:8080/"
        },
        "id": "bored-soldier",
        "outputId": "5c990c6e-0221-45d8-9046-982e8c4df60c"
      },
      "outputs": [
        {
          "output_type": "stream",
          "name": "stdout",
          "text": [
            "OS HR for Gene A: 1.09 (1.01, 1.19)\n"
          ]
        }
      ],
      "source": [
        "data_fit = data_cox[cols_basic+confounders+['Gene A']]\n",
        "HR = Cox_IPTW(data_fit, 'Gene A')\n",
        "print('OS HR for Gene A: %s' % (HR))"
      ]
    },
    {
      "cell_type": "markdown",
      "source": [
        "# Step 4 : we ran the prognostic analysis by subsetting the data to include duration event fmi_test the confounders and Gene A then called Cox_IPTW which returned an overall survival hazard ratio of 1.09 (1.01, 1.19) for Gene A mutations.The estimated hazard ratio of 1.09 (95 % CI 1.01–1.19) indicates that patients with the Gene A mutation had a 9 % higher instantaneous risk of death compared to those without the mutation, after adjusting for age, sex, performance status, and accounting for delayed entry. Because the confidence interval does not cross 1, this suggests the mutation is a statistically significant adverse prognostic factor."
      ],
      "metadata": {
        "id": "PmONUl4z0uuB"
      },
      "id": "PmONUl4z0uuB"
    },
    {
      "cell_type": "markdown",
      "id": "varied-funds",
      "metadata": {
        "id": "varied-funds"
      },
      "source": [
        "### 2. Gene-treatment interactions\n",
        "\n",
        "Here we use analyze the interaction between mutations of Gene A and Treatment 1."
      ]
    },
    {
      "cell_type": "code",
      "execution_count": 6,
      "id": "separate-oklahoma",
      "metadata": {
        "id": "separate-oklahoma"
      },
      "outputs": [],
      "source": [
        "gene = 'Gene A'\n",
        "treatment = 'Treatment 1'"
      ]
    },
    {
      "cell_type": "markdown",
      "id": "imperial-meter",
      "metadata": {
        "id": "imperial-meter"
      },
      "source": [
        "##### Interaction\n",
        "\n",
        "Interaction: exp(coef) for the drug-treatment interaction term in the Cox model, adjusted by patient confounders."
      ]
    },
    {
      "cell_type": "code",
      "execution_count": 7,
      "id": "false-innocent",
      "metadata": {
        "colab": {
          "base_uri": "https://localhost:8080/"
        },
        "id": "false-innocent",
        "outputId": "6cf2b77b-4115-4df8-a07d-fdeda87969ea"
      },
      "outputs": [
        {
          "output_type": "stream",
          "name": "stdout",
          "text": [
            "Interaction between Gene A and Treatment 1 is 0.65 (0.55, 0.77)\n"
          ]
        }
      ],
      "source": [
        "data_fit = data_cox[cols_basic+[gene, treatment]]\n",
        "col_inter = '%s+%s'%(gene, treatment)\n",
        "data_fit[col_inter] = data_fit[gene]*data_fit[treatment]\n",
        "cph = CoxPHFitter()\n",
        "cph.fit(data_fit, 'duration', 'event', entry_col='fmi_test', robust=True)\n",
        "HR = process_HR(cph.summary, col_inter)\n",
        "print('Interaction between Gene A and Treatment 1 is %s' % HR)"
      ]
    },
    {
      "cell_type": "markdown",
      "id": "norwegian-maryland",
      "metadata": {
        "id": "norwegian-maryland"
      },
      "source": [
        "##### Gene-centric\n",
        "- <font color=darkblue>*HR for gene mutation*</font>: for all patients with mutations of Gene A, OS HR for patients who received Treatment 1 vs. patients who did not take Treatment 1.\n",
        "- <font color=darkblue>*HR for absence of gene mutation*</font>: for all patients *without* mutations of Gene A, OS HR for patients who received Treatment 1 vs. patients who did not take Treatment 1."
      ]
    },
    {
      "cell_type": "code",
      "execution_count": 8,
      "id": "impossible-defeat",
      "metadata": {
        "colab": {
          "base_uri": "https://localhost:8080/"
        },
        "id": "impossible-defeat",
        "outputId": "30c69aa5-b158-4418-efc1-7d0c0280bb2d"
      },
      "outputs": [
        {
          "output_type": "stream",
          "name": "stdout",
          "text": [
            "Treatment HR for patients with mutations of Gene A = 0.79 (0.69, 0.89)\n",
            "Treatment HR for patients without mutations of Gene A = 1.20 (1.08, 1.34)\n"
          ]
        }
      ],
      "source": [
        "data_fit = data_cox.loc[data_cox[gene]==1, cols_basic+confounders+[treatment]].copy()\n",
        "HR = Cox_IPTW(data_fit, treatment)\n",
        "print('Treatment HR for patients with mutations of Gene A = %s' % HR)\n",
        "\n",
        "data_fit = data_cox.loc[data_cox[gene]==0, cols_basic+confounders+[treatment]].copy()\n",
        "HR = Cox_IPTW(data_fit, treatment)\n",
        "print('Treatment HR for patients without mutations of Gene A = %s' % HR)"
      ]
    },
    {
      "cell_type": "markdown",
      "id": "pleased-miller",
      "metadata": {
        "id": "pleased-miller"
      },
      "source": [
        "##### Drug-centric\n",
        "\n",
        "- <font color=darkblue>*HR given drug*</font>: for all patients who received Treatment 1, HR for patients with mutations of Gene A vs. patients without mutations of Gene A.\n",
        "- <font color=darkblue>*HR given other drugs*</font>: for all patients who received other treatments, HR for patients with mutations of Gene A vs. patients without mutations of Gene A."
      ]
    },
    {
      "cell_type": "code",
      "execution_count": 9,
      "id": "spread-ground",
      "metadata": {
        "colab": {
          "base_uri": "https://localhost:8080/"
        },
        "id": "spread-ground",
        "outputId": "3957caf0-6cb8-4338-b2b3-67ce3359a22c"
      },
      "outputs": [
        {
          "output_type": "stream",
          "name": "stdout",
          "text": [
            "Gene A mutation HR for patients who received Treatment 1 = 0.90 (0.81, 1.01)\n",
            "Gene A mutation HR for patients who didn't receive Treatment 1 = 1.41 (1.24, 1.60)\n"
          ]
        }
      ],
      "source": [
        "data_fit = data_cox.loc[data_cox[treatment]==1, cols_basic+confounders+[gene]].copy()\n",
        "HR = Cox_IPTW(data_fit, gene)\n",
        "print('Gene A mutation HR for patients who received Treatment 1 = %s' % HR)\n",
        "\n",
        "data_fit = data_cox.loc[data_cox[treatment]==0, cols_basic+confounders+[gene]].copy()\n",
        "HR = Cox_IPTW(data_fit, gene)\n",
        "print('Gene A mutation HR for patients who didn\\'t receive Treatment 1 = %s' % HR)"
      ]
    },
    {
      "cell_type": "markdown",
      "source": [
        "# Step 5 tested the Gene A × Treatment 1 interaction by creating an interaction term (Gene A * Treatment 1) fitting a Cox model with entry times, and yielded an interaction hazard ratio of 0.65 (0.55–0.77), showing a 35 % synergistic survival benefit when the mutation and drug coincided. Step 6 then broke this down: among Gene A carriers, Treatment 1 cut mortality by 21 % (HR 0.79 (0.69–0.89)); among non‑carriers, the same drug increased risk by 20 % (HR 1.20 (1.08–1.34)). Finally, in drug‑centric analyses, carriers of Gene A treated with the drug fared slightly better (HR 0.90 (0.81–1.01)), whereas untreated carriers fared much worse (HR 1.41 (1.24–1.60)), confirming genuine effect modification."
      ],
      "metadata": {
        "id": "mtmv1EAT2RYr"
      },
      "id": "mtmv1EAT2RYr"
    },
    {
      "cell_type": "markdown",
      "id": "understanding-sense",
      "metadata": {
        "id": "understanding-sense"
      },
      "source": [
        "### 3. Mutation-mutation interactions\n",
        "\n",
        "Here we study the mutation-mutation interactions that modify the effect of anchor Gene A.\n",
        "For patients with anchor gene (Gene A) positive, we extracted the OS HR by comparing cohorts with modifier gene (Gene B) mutation-positive vs. modifier gene (Gene B) mutation-negative."
      ]
    },
    {
      "cell_type": "code",
      "execution_count": 10,
      "id": "undefined-joshua",
      "metadata": {
        "colab": {
          "base_uri": "https://localhost:8080/"
        },
        "id": "undefined-joshua",
        "outputId": "d6a6a74c-5acd-4111-9559-88e81475160c"
      },
      "outputs": [
        {
          "output_type": "stream",
          "name": "stdout",
          "text": [
            "modifier gene HR for anchor gene positive: 0.85 (0.75, 0.97)\n"
          ]
        }
      ],
      "source": [
        "gene_anchor = 'Gene A'\n",
        "gene_modifier = 'Gene B'\n",
        "data_fit = data_cox.loc[data_cox[gene_anchor]==1, cols_basic+confounders+[gene_modifier]]\n",
        "HR = Cox_IPTW(data_fit, gene_modifier)\n",
        "print('modifier gene HR for anchor gene positive: %s' % HR)"
      ]
    },
    {
      "cell_type": "markdown",
      "source": [
        "# Step 7 examined mutation–mutation synergy by selecting only Gene A‑positive patients, comparing those with and without Gene B mutations, and found a hazard ratio of 0.85 (0.75, 0.97), indicating that in Gene A carriers the additional Gene B mutation conferred a 15 % reduction in risk."
      ],
      "metadata": {
        "id": "dtdGOhj12nUz"
      },
      "id": "dtdGOhj12nUz"
    },
    {
      "cell_type": "markdown",
      "source": [
        "# So in brief explannation, in this notebook we first imported the necessary libraries, then loaded and validated the synthetic dataset, defined helper functions to compute inverse‑probability‑weighted Cox models and format hazard ratios, assessed the prognostic impact of Gene A (HR 1.09), quantified the synergistic effect between Gene A and Treatment 1 (interaction HR 0.65) and its stratified effects in both mutation‑centric and drug‑centric views (HRs ranging from 0.79 to 1.41), and finally demonstrated that adding Gene B in the Gene A‑positive subgroup further reduced risk (HR 0.85), thus recreating the full analytical pipeline of Liu et al. in a step‑by‑step, reproducible manner."
      ],
      "metadata": {
        "id": "rSe29P1w5n8d"
      },
      "id": "rSe29P1w5n8d"
    },
    {
      "cell_type": "markdown",
      "source": [],
      "metadata": {
        "id": "u6XTvPGK27Hn"
      },
      "id": "u6XTvPGK27Hn"
    }
  ],
  "metadata": {
    "kernelspec": {
      "display_name": "Python 3",
      "language": "python",
      "name": "python3"
    },
    "language_info": {
      "codemirror_mode": {
        "name": "ipython",
        "version": 3
      },
      "file_extension": ".py",
      "mimetype": "text/x-python",
      "name": "python",
      "nbconvert_exporter": "python",
      "pygments_lexer": "ipython3",
      "version": "3.8.6"
    },
    "colab": {
      "provenance": [],
      "include_colab_link": true
    }
  },
  "nbformat": 4,
  "nbformat_minor": 5
}